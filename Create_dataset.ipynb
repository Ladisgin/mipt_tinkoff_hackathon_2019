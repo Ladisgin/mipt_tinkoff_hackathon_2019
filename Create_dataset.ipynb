{
 "cells": [
  {
   "cell_type": "code",
   "execution_count": 1,
   "metadata": {},
   "outputs": [],
   "source": [
    "import pandas as pd"
   ]
  },
  {
   "cell_type": "code",
   "execution_count": 2,
   "metadata": {},
   "outputs": [],
   "source": [
    "# Читаем словари\n",
    "df_buy_sportswear = pd.read_csv(\"new/buy_sportswear_new.csv\")\n",
    "df_buy_eq = pd.read_csv(\"new/buy_equipment_new.csv\")\n",
    "df_buy_food = pd.read_csv(\"new/buy_food_new.csv\")\n",
    "df_buy_or_order_goods = pd.read_csv(\"new/buy_or_order_goods_new.csv\")\n",
    "df_buy_sport_food = pd.read_csv(\"new/buy_sport_food_new.csv\")\n",
    "df_get_service = pd.read_csv(\"new/get_service_new.csv\")\n",
    "df_get_train = pd.read_csv(\"new/get_train_new.csv\")\n",
    "df_order_food = pd.read_csv(\"new/order_food_new.csv\")\n",
    "df_rent_eq = pd.read_csv(\"new/rent_equipment_new.csv\")"
   ]
  },
  {
   "cell_type": "code",
   "execution_count": 3,
   "metadata": {},
   "outputs": [],
   "source": [
    "# Шаблоны\n",
    "intents_buy_rent = [\"Где \", \"Хочу \", \"Ищу \", \"Ищу где \", \"Куда сходить \", \" \"]\n",
    "lst_buy_sport = [\"купить\", \"продается\", \"взять\", \"приобрести\", \"найти\", \" \"]\n",
    "lst_get = [\"получить услугу\", \"позаниматься\", \"занятия\", \"научиться\", \" \"]\n",
    "lst_rent = [\"взять\", \"приобрести\", \"найти\", \"арендовать\", \" \"]\n",
    "lst_order = [\"заказать\", \"получить\", \"поесть\", \"покушать\", \" \"]\n",
    "lst_buy_goods = [\"купить\", \"продается\", \"взять\", \"приобрести\", \"найти\", \"получить\", \"поесть\", \"покушать\", \" \"]"
   ]
  },
  {
   "cell_type": "code",
   "execution_count": 4,
   "metadata": {},
   "outputs": [],
   "source": [
    "dataset = {'Sentence': [], 'Intent':[]}\n",
    "for i in intents_buy_rent:\n",
    "    for lbs in lst_buy_sport:\n",
    "        # buy_sportswear - купить спорт. одежду и обувь\n",
    "        for item in df_buy_sportswear.NAME:\n",
    "            dataset['Intent'].append('buy_sportswear')\n",
    "            dataset['Sentence'].append(i + lbs + \" \" + item)\n",
    "        # buy_equipment - купить снаряжение и инвентарь\n",
    "        for item in df_buy_eq.NAME:\n",
    "            dataset['Intent'].append('buy_equipment')\n",
    "            dataset['Sentence'].append(i + lbs + \" \" + item)\n",
    "        # buy_sport_food - купить спортпит\n",
    "        for item in df_buy_sport_food.NAME:\n",
    "            dataset['Intent'].append('buy_sport_food')\n",
    "            dataset['Sentence'].append(i + lbs + \" \" + item)\n",
    "            \n",
    "    for lbs in lst_get:\n",
    "        # get_service - посетить фитнес-центр, бассейн, зал и т.п.\n",
    "        for item in df_get_service.NAME:\n",
    "            dataset['Intent'].append('get_service')\n",
    "            dataset['Sentence'].append(i + lbs + \" \" + item)\n",
    "        # get_train - получить услуги инструктора\n",
    "        for item in df_get_train.NAME:\n",
    "            dataset['Intent'].append('get_train')\n",
    "            dataset['Sentence'].append(i + lbs + \" \" + item)\n",
    "            \n",
    "    for lbs in lst_rent:\n",
    "        # rent_equipment - арендовать снаряжение и экипировку\n",
    "        for item in df_rent_eq.NAME:\n",
    "            dataset['Intent'].append('rent_equipment')\n",
    "            dataset['Sentence'].append(i + lbs + \" \" + item)\n",
    "            \n",
    "    for lbs in lst_order:\n",
    "        # order_food - заказать доставку еды из ресторана, бара, кафе и т.д.\n",
    "        for item in df_order_food.NAME:\n",
    "            dataset['Intent'].append('order_food')\n",
    "            dataset['Sentence'].append(i + lbs + \" \" + item)\n",
    "            \n",
    "    for lbs in lst_buy_goods:\n",
    "        # buy_or_order_goods - купить or заказать доставку продуктов\n",
    "        for item in df_buy_or_order_goods.NAME:\n",
    "            dataset['Intent'].append('buy_or_order_goods')\n",
    "            dataset['Sentence'].append(i + lbs + \" \" + item)\n",
    "        # buy_food - купить еду в ресторане, баре, кафе и т.д.\n",
    "        for item in df_buy_food.NAME:\n",
    "            dataset['Intent'].append('buy_food')\n",
    "            dataset['Sentence'].append(i + lbs + \" \" + item)\n",
    "       "
   ]
  },
  {
   "cell_type": "code",
   "execution_count": 5,
   "metadata": {},
   "outputs": [],
   "source": [
    "df = pd.DataFrame(dataset)\n",
    "df.to_csv('dataset.csv')"
   ]
  },
  {
   "cell_type": "code",
   "execution_count": null,
   "metadata": {},
   "outputs": [],
   "source": []
  }
 ],
 "metadata": {
  "kernelspec": {
   "display_name": "Python 3",
   "language": "python",
   "name": "python3"
  },
  "language_info": {
   "codemirror_mode": {
    "name": "ipython",
    "version": 3
   },
   "file_extension": ".py",
   "mimetype": "text/x-python",
   "name": "python",
   "nbconvert_exporter": "python",
   "pygments_lexer": "ipython3",
   "version": "3.6.7"
  }
 },
 "nbformat": 4,
 "nbformat_minor": 2
}
