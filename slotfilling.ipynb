{
 "cells": [
  {
   "cell_type": "code",
   "execution_count": 1,
   "metadata": {},
   "outputs": [],
   "source": [
    "import numpy as np\n",
    "import pandas as pd\n",
    "import csv\n",
    "import nltk\n",
    "from pymystem3 import Mystem"
   ]
  },
  {
   "cell_type": "code",
   "execution_count": 12,
   "metadata": {},
   "outputs": [
    {
     "name": "stdout",
     "output_type": "stream",
     "text": [
      "['Купить', 'хороший', 'горный', 'велосипед', 'с', 'кэшбэком', '15%']\n",
      "['купить', 'хороший', 'горный', 'велосипед', 'с', 'кэшбэк', '15']\n"
     ]
    }
   ],
   "source": [
    "cashback = {'cashback_slot': ['кэшбек', 'кэш', 'кб', 'кеш', 'кешбек', 'кэшбэк', 'cashback', 'ceshback', 'cashbak', \n",
    " 'cashbac,', 'ceshbak', 'ceshbac']}\n",
    "price_from = {'price_from_slot': ['от']}\n",
    "price_to = {'price_to_slot': ['до', 'меньше']}\n",
    "\n",
    "percents = {'процентов': ['%', 'проц', 'п', 'пр', 'працентов', 'прац', 'працентав', 'percents', 'procents']}\n",
    "thousands = {'000': ['тыс', 'тыр', 'к', 'т', 'тысяч', 'тыщ', 'кэсов', 'косарей', 'thousands', ' 000']}\n",
    "roubles = {'' : ['р', 'руб', 'рублей', 'rub', 'р.', 'roubles']}\n",
    "\n",
    "str_query = \"Купить хороший горный велосипед с кэшбэком 15%\"\n",
    "# for key in percents:\n",
    "#     values = percents.get(key)\n",
    "#     for val in values:\n",
    "#         print(val)\n",
    "#         str_query = str_query.replace(val, key)\n",
    "\n",
    "# print(str_query)\n",
    "lem_words = []\n",
    "words = str_query.split(' ')\n",
    "print(words)\n",
    "\n",
    "\n",
    "w = Mystem()\n",
    "for word in words:\n",
    "    lem_word = w.lemmatize(word)[0]\n",
    "    lem_words.append(lem_word)\n",
    "print(lem_words)\n",
    "\n",
    "\n"
   ]
  },
  {
   "cell_type": "code",
   "execution_count": null,
   "metadata": {},
   "outputs": [],
   "source": [
    "\n"
   ]
  }
 ],
 "metadata": {
  "kernelspec": {
   "display_name": "Python 3",
   "language": "python",
   "name": "python3"
  },
  "language_info": {
   "codemirror_mode": {
    "name": "ipython",
    "version": 3
   },
   "file_extension": ".py",
   "mimetype": "text/x-python",
   "name": "python",
   "nbconvert_exporter": "python",
   "pygments_lexer": "ipython3",
   "version": "3.6.7"
  }
 },
 "nbformat": 4,
 "nbformat_minor": 2
}
